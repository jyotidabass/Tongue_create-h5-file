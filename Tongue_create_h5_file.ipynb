{
  "nbformat": 4,
  "nbformat_minor": 0,
  "metadata": {
    "colab": {
      "name": "Tongue_create h5 file.ipynb",
      "provenance": [],
      "mount_file_id": "1u0CAeIamBzOpBqM8SliauzikmJqO6wX0",
      "authorship_tag": "ABX9TyPX4dHd+ScPpx6V9AnGFF65",
      "include_colab_link": true
    },
    "kernelspec": {
      "name": "python3",
      "display_name": "Python 3"
    },
    "language_info": {
      "name": "python"
    }
  },
  "cells": [
    {
      "cell_type": "markdown",
      "metadata": {
        "id": "view-in-github",
        "colab_type": "text"
      },
      "source": [
        "<a href=\"https://colab.research.google.com/github/jyotidabass/Tongue_create-h5-file/blob/main/Tongue_create_h5_file.ipynb\" target=\"_parent\"><img src=\"https://colab.research.google.com/assets/colab-badge.svg\" alt=\"Open In Colab\"/></a>"
      ]
    },
    {
      "cell_type": "code",
      "execution_count": 10,
      "metadata": {
        "colab": {
          "base_uri": "https://localhost:8080/"
        },
        "id": "8c4Xd_OQgo9l",
        "outputId": "36f25b14-0c5c-4b27-c6fc-a35f549c297d"
      },
      "outputs": [
        {
          "output_type": "stream",
          "name": "stdout",
          "text": [
            "/content/drive/MyDrive/TWO-CLASS COATED-UNCOATED/Train\n"
          ]
        }
      ],
      "source": [
        "import os\n",
        "wd=os.chdir('/content/drive/MyDrive/TWO-CLASS COATED-UNCOATED/Train') #change the file path to your working directory\n",
        "wd=os.getcwd() #request what is the current working directory\n",
        "print(wd) #show what is the current working directory"
      ]
    },
    {
      "cell_type": "code",
      "source": [
        "import numpy as np\n",
        "import h5py\n",
        " \n",
        "# initializing a random numpy array\n",
        "arr = np.random.randn(1000)\n",
        " \n",
        "# creating a file\n",
        "with h5py.File('test.hdf5', 'w') as f:\n",
        "    dset = f.create_dataset(\"default\", data = arr)"
      ],
      "metadata": {
        "id": "6TfxhfpiiJAG"
      },
      "execution_count": 11,
      "outputs": []
    }
  ]
}