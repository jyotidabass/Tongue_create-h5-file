{
  "nbformat": 4,
  "nbformat_minor": 0,
  "metadata": {
    "colab": {
      "name": "Tongue_create h5 file.ipynb",
      "provenance": [],
      "mount_file_id": "1u0CAeIamBzOpBqM8SliauzikmJqO6wX0",
      "authorship_tag": "ABX9TyNFnHbxaGMvY4TPr9pJRHiA",
      "include_colab_link": true
    },
    "kernelspec": {
      "name": "python3",
      "display_name": "Python 3"
    },
    "language_info": {
      "name": "python"
    }
  },
  "cells": [
    {
      "cell_type": "markdown",
      "metadata": {
        "id": "view-in-github",
        "colab_type": "text"
      },
      "source": [
        "<a href=\"https://colab.research.google.com/github/jyotidabass/Tongue_create-h5-file/blob/main/Tongue_create_h5_file.ipynb\" target=\"_parent\"><img src=\"https://colab.research.google.com/assets/colab-badge.svg\" alt=\"Open In Colab\"/></a>"
      ]
    },
    {
      "cell_type": "code",
      "execution_count": 10,
      "metadata": {
        "colab": {
          "base_uri": "https://localhost:8080/"
        },
        "id": "8c4Xd_OQgo9l",
        "outputId": "36f25b14-0c5c-4b27-c6fc-a35f549c297d"
      },
      "outputs": [
        {
          "output_type": "stream",
          "name": "stdout",
          "text": [
            "/content/drive/MyDrive/TWO-CLASS COATED-UNCOATED/Train\n"
          ]
        }
      ],
      "source": [
        "import os\n",
        "wd=os.chdir('/content/drive/MyDrive/TWO-CLASS COATED-UNCOATED/Train') #change the file path to your working directory\n",
        "wd=os.getcwd() #request what is the current working directory\n",
        "print(wd) #show what is the current working directory"
      ]
    },
    {
      "cell_type": "code",
      "source": [
        "import numpy as np\n",
        "import h5py\n",
        " \n",
        "# initializing a random numpy array\n",
        "arr = np.random.randn(1000)\n",
        " \n",
        "# creating a file\n",
        "with h5py.File('test.hdf5', 'w') as f:\n",
        "    dset = f.create_dataset(\"default\", data = arr)"
      ],
      "metadata": {
        "id": "6TfxhfpiiJAG"
      },
      "execution_count": 11,
      "outputs": []
    },
    {
      "cell_type": "code",
      "source": [
        "\n",
        "# open the file as 'f'\n",
        "with h5py.File('test.hdf5', 'r') as f:\n",
        "    data = f['default']\n",
        "     \n",
        "    # get the minimum value\n",
        "    print(min(data))\n",
        "     \n",
        "    # get the maximum value\n",
        "    print(max(data))\n",
        "     \n",
        "    # get the values ranging from index 0 to 15\n",
        "    print(data[:15])"
      ],
      "metadata": {
        "colab": {
          "base_uri": "https://localhost:8080/"
        },
        "id": "NU0xXvVdmDjT",
        "outputId": "04872c3d-0ce0-4fc8-e8a9-da9568735e6f"
      },
      "execution_count": 12,
      "outputs": [
        {
          "output_type": "stream",
          "name": "stdout",
          "text": [
            "-3.526183752276929\n",
            "3.9518412623580543\n",
            "[ 0.46420422  2.40269658  0.14313579 -0.22858752 -0.16377285  2.40695199\n",
            "  0.37406195  0.28130705 -0.71531266 -0.13197703  1.00337094 -0.15681423\n",
            " -2.90381628  0.47758523  1.01986995]\n"
          ]
        }
      ]
    }
  ]
}